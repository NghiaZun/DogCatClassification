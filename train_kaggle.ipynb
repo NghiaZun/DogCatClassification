{
 "cells": [
  {
   "cell_type": "code",
   "execution_count": 1,
   "id": "d066ed5f",
   "metadata": {
    "_cell_guid": "b1076dfc-b9ad-4769-8c92-a6c4dae69d19",
    "_uuid": "8f2839f25d086af736a60e9eeb907d3b93b6e0e5",
    "execution": {
     "iopub.execute_input": "2025-04-27T06:19:40.518359Z",
     "iopub.status.busy": "2025-04-27T06:19:40.518101Z",
     "iopub.status.idle": "2025-04-27T06:19:41.277589Z",
     "shell.execute_reply": "2025-04-27T06:19:41.276655Z"
    },
    "papermill": {
     "duration": 0.763703,
     "end_time": "2025-04-27T06:19:41.278953",
     "exception": false,
     "start_time": "2025-04-27T06:19:40.515250",
     "status": "completed"
    },
    "tags": []
   },
   "outputs": [
    {
     "name": "stdout",
     "output_type": "stream",
     "text": [
      "Cloning into 'dog-cat'...\r\n",
      "remote: Enumerating objects: 25, done.\u001b[K\r\n",
      "remote: Counting objects: 100% (25/25), done.\u001b[K\r\n",
      "remote: Compressing objects: 100% (16/16), done.\u001b[K\r\n",
      "remote: Total 25 (delta 7), reused 22 (delta 7), pack-reused 0 (from 0)\u001b[K\r\n",
      "Receiving objects: 100% (25/25), 5.61 KiB | 2.80 MiB/s, done.\r\n",
      "Resolving deltas: 100% (7/7), done.\r\n",
      "/kaggle/working/dog-cat\n"
     ]
    }
   ],
   "source": [
    "!git clone https://github.com/NghiaZun/dog-cat.git\n",
    "%cd dog-cat"
   ]
  },
  {
   "cell_type": "code",
   "execution_count": 2,
   "id": "ec8da8da",
   "metadata": {
    "execution": {
     "iopub.execute_input": "2025-04-27T06:19:41.283282Z",
     "iopub.status.busy": "2025-04-27T06:19:41.283049Z",
     "iopub.status.idle": "2025-04-27T06:19:41.652214Z",
     "shell.execute_reply": "2025-04-27T06:19:41.651258Z"
    },
    "papermill": {
     "duration": 0.3729,
     "end_time": "2025-04-27T06:19:41.653706",
     "exception": false,
     "start_time": "2025-04-27T06:19:41.280806",
     "status": "completed"
    },
    "tags": []
   },
   "outputs": [
    {
     "name": "stdout",
     "output_type": "stream",
     "text": [
      "Already up to date.\r\n"
     ]
    }
   ],
   "source": [
    "!git pull"
   ]
  },
  {
   "cell_type": "code",
   "execution_count": 3,
   "id": "f028d10b",
   "metadata": {
    "execution": {
     "iopub.execute_input": "2025-04-27T06:19:41.657961Z",
     "iopub.status.busy": "2025-04-27T06:19:41.657720Z",
     "iopub.status.idle": "2025-04-27T06:45:25.561827Z",
     "shell.execute_reply": "2025-04-27T06:45:25.561000Z"
    },
    "papermill": {
     "duration": 1543.907811,
     "end_time": "2025-04-27T06:45:25.563232",
     "exception": false,
     "start_time": "2025-04-27T06:19:41.655421",
     "status": "completed"
    },
    "tags": []
   },
   "outputs": [
    {
     "name": "stdout",
     "output_type": "stream",
     "text": [
      "model.safetensors: 100%|██████████████████████| 355M/355M [00:01<00:00, 332MB/s]\r\n",
      "\r\n",
      "Epoch 1/10\r\n",
      "Training Epoch 1/10: 100%|██████| 226/226 [06:11<00:00,  1.64s/it, loss=0.00214]\r\n",
      "Evaluating:   0%|                                        | 0/26 [00:00<?, ?it/s]logits shape: torch.Size([32, 1]), labels shape: torch.Size([32])\r\n",
      "Evaluating:   4%|█▏                              | 1/26 [00:00<00:16,  1.54it/s]logits shape: torch.Size([32, 1]), labels shape: torch.Size([32])\r\n",
      "Evaluating:   8%|██▍                             | 2/26 [00:00<00:10,  2.37it/s]logits shape: torch.Size([32, 1]), labels shape: torch.Size([32])\r\n",
      "Evaluating:  12%|███▋                            | 3/26 [00:01<00:08,  2.86it/s]logits shape: torch.Size([32, 1]), labels shape: torch.Size([32])\r\n",
      "Evaluating:  15%|████▉                           | 4/26 [00:01<00:06,  3.17it/s]logits shape: torch.Size([32, 1]), labels shape: torch.Size([32])\r\n",
      "Evaluating:  19%|██████▏                         | 5/26 [00:01<00:06,  3.36it/s]logits shape: torch.Size([32, 1]), labels shape: torch.Size([32])\r\n",
      "Evaluating:  23%|███████▍                        | 6/26 [00:01<00:05,  3.50it/s]logits shape: torch.Size([32, 1]), labels shape: torch.Size([32])\r\n",
      "Evaluating:  27%|████████▌                       | 7/26 [00:02<00:05,  3.59it/s]logits shape: torch.Size([32, 1]), labels shape: torch.Size([32])\r\n",
      "Evaluating:  31%|█████████▊                      | 8/26 [00:02<00:04,  3.65it/s]logits shape: torch.Size([32, 1]), labels shape: torch.Size([32])\r\n",
      "Evaluating:  35%|███████████                     | 9/26 [00:02<00:04,  3.69it/s]logits shape: torch.Size([32, 1]), labels shape: torch.Size([32])\r\n",
      "Evaluating:  38%|███████████▉                   | 10/26 [00:03<00:04,  3.73it/s]logits shape: torch.Size([32, 1]), labels shape: torch.Size([32])\r\n",
      "Evaluating:  42%|█████████████                  | 11/26 [00:03<00:04,  3.75it/s]logits shape: torch.Size([32, 1]), labels shape: torch.Size([32])\r\n",
      "Evaluating:  46%|██████████████▎                | 12/26 [00:03<00:03,  3.77it/s]logits shape: torch.Size([32, 1]), labels shape: torch.Size([32])\r\n",
      "Evaluating:  50%|███████████████▌               | 13/26 [00:03<00:03,  3.77it/s]logits shape: torch.Size([32, 1]), labels shape: torch.Size([32])\r\n",
      "Evaluating:  54%|████████████████▋              | 14/26 [00:04<00:03,  3.78it/s]logits shape: torch.Size([32, 1]), labels shape: torch.Size([32])\r\n",
      "Evaluating:  58%|█████████████████▉             | 15/26 [00:04<00:02,  3.79it/s]logits shape: torch.Size([32, 1]), labels shape: torch.Size([32])\r\n",
      "Evaluating:  62%|███████████████████            | 16/26 [00:04<00:02,  3.79it/s]logits shape: torch.Size([32, 1]), labels shape: torch.Size([32])\r\n",
      "Evaluating:  65%|████████████████████▎          | 17/26 [00:04<00:02,  3.79it/s]logits shape: torch.Size([32, 1]), labels shape: torch.Size([32])\r\n",
      "Evaluating:  69%|█████████████████████▍         | 18/26 [00:05<00:02,  3.79it/s]logits shape: torch.Size([32, 1]), labels shape: torch.Size([32])\r\n",
      "Evaluating:  73%|██████████████████████▋        | 19/26 [00:05<00:01,  3.80it/s]logits shape: torch.Size([32, 1]), labels shape: torch.Size([32])\r\n",
      "Evaluating:  77%|███████████████████████▊       | 20/26 [00:05<00:01,  3.80it/s]logits shape: torch.Size([32, 1]), labels shape: torch.Size([32])\r\n",
      "Evaluating:  81%|█████████████████████████      | 21/26 [00:05<00:01,  3.79it/s]logits shape: torch.Size([32, 1]), labels shape: torch.Size([32])\r\n",
      "Evaluating:  85%|██████████████████████████▏    | 22/26 [00:06<00:01,  3.79it/s]logits shape: torch.Size([32, 1]), labels shape: torch.Size([32])\r\n",
      "Evaluating:  88%|███████████████████████████▍   | 23/26 [00:06<00:00,  3.79it/s]logits shape: torch.Size([32, 1]), labels shape: torch.Size([32])\r\n",
      "Evaluating:  92%|████████████████████████████▌  | 24/26 [00:06<00:00,  3.80it/s]logits shape: torch.Size([32, 1]), labels shape: torch.Size([32])\r\n",
      "Evaluating:  96%|█████████████████████████████▊ | 25/26 [00:06<00:00,  3.80it/s]logits shape: torch.Size([1, 1]), labels shape: torch.Size([1])\r\n",
      "Train Loss: 0.0670 | Val Loss: 0.0111 | Val Accuracy: 0.9963\r\n",
      "Improved Val Loss — model saved.\r\n",
      "\r\n",
      "Epoch 2/10\r\n",
      "Training Epoch 2/10: 100%|█████| 226/226 [06:12<00:00,  1.65s/it, loss=0.000359]\r\n",
      "Evaluating:   0%|                                        | 0/26 [00:00<?, ?it/s]logits shape: torch.Size([32, 1]), labels shape: torch.Size([32])\r\n",
      "Evaluating:   4%|█▏                              | 1/26 [00:00<00:14,  1.67it/s]logits shape: torch.Size([32, 1]), labels shape: torch.Size([32])\r\n",
      "Evaluating:   8%|██▍                             | 2/26 [00:00<00:09,  2.48it/s]logits shape: torch.Size([32, 1]), labels shape: torch.Size([32])\r\n",
      "Evaluating:  12%|███▋                            | 3/26 [00:01<00:07,  2.94it/s]logits shape: torch.Size([32, 1]), labels shape: torch.Size([32])\r\n",
      "Evaluating:  15%|████▉                           | 4/26 [00:01<00:06,  3.23it/s]logits shape: torch.Size([32, 1]), labels shape: torch.Size([32])\r\n",
      "Evaluating:  19%|██████▏                         | 5/26 [00:01<00:06,  3.41it/s]logits shape: torch.Size([32, 1]), labels shape: torch.Size([32])\r\n",
      "Evaluating:  23%|███████▍                        | 6/26 [00:01<00:05,  3.51it/s]logits shape: torch.Size([32, 1]), labels shape: torch.Size([32])\r\n",
      "Evaluating:  27%|████████▌                       | 7/26 [00:02<00:05,  3.60it/s]logits shape: torch.Size([32, 1]), labels shape: torch.Size([32])\r\n",
      "Evaluating:  31%|█████████▊                      | 8/26 [00:02<00:04,  3.66it/s]logits shape: torch.Size([32, 1]), labels shape: torch.Size([32])\r\n",
      "Evaluating:  35%|███████████                     | 9/26 [00:02<00:04,  3.69it/s]logits shape: torch.Size([32, 1]), labels shape: torch.Size([32])\r\n",
      "Evaluating:  38%|███████████▉                   | 10/26 [00:02<00:04,  3.71it/s]logits shape: torch.Size([32, 1]), labels shape: torch.Size([32])\r\n",
      "Evaluating:  42%|█████████████                  | 11/26 [00:03<00:04,  3.74it/s]logits shape: torch.Size([32, 1]), labels shape: torch.Size([32])\r\n",
      "Evaluating:  46%|██████████████▎                | 12/26 [00:03<00:03,  3.75it/s]logits shape: torch.Size([32, 1]), labels shape: torch.Size([32])\r\n",
      "Evaluating:  50%|███████████████▌               | 13/26 [00:03<00:03,  3.75it/s]logits shape: torch.Size([32, 1]), labels shape: torch.Size([32])\r\n",
      "Evaluating:  54%|████████████████▋              | 14/26 [00:04<00:03,  3.76it/s]logits shape: torch.Size([32, 1]), labels shape: torch.Size([32])\r\n",
      "Evaluating:  58%|█████████████████▉             | 15/26 [00:04<00:02,  3.77it/s]logits shape: torch.Size([32, 1]), labels shape: torch.Size([32])\r\n",
      "Evaluating:  62%|███████████████████            | 16/26 [00:04<00:02,  3.77it/s]logits shape: torch.Size([32, 1]), labels shape: torch.Size([32])\r\n",
      "Evaluating:  65%|████████████████████▎          | 17/26 [00:04<00:02,  3.78it/s]logits shape: torch.Size([32, 1]), labels shape: torch.Size([32])\r\n",
      "Evaluating:  69%|█████████████████████▍         | 18/26 [00:05<00:02,  3.78it/s]logits shape: torch.Size([32, 1]), labels shape: torch.Size([32])\r\n",
      "Evaluating:  73%|██████████████████████▋        | 19/26 [00:05<00:01,  3.79it/s]logits shape: torch.Size([32, 1]), labels shape: torch.Size([32])\r\n",
      "Evaluating:  77%|███████████████████████▊       | 20/26 [00:05<00:01,  3.79it/s]logits shape: torch.Size([32, 1]), labels shape: torch.Size([32])\r\n",
      "Evaluating:  81%|█████████████████████████      | 21/26 [00:05<00:01,  3.79it/s]logits shape: torch.Size([32, 1]), labels shape: torch.Size([32])\r\n",
      "Evaluating:  85%|██████████████████████████▏    | 22/26 [00:06<00:01,  3.78it/s]logits shape: torch.Size([32, 1]), labels shape: torch.Size([32])\r\n",
      "Evaluating:  88%|███████████████████████████▍   | 23/26 [00:06<00:00,  3.79it/s]logits shape: torch.Size([32, 1]), labels shape: torch.Size([32])\r\n",
      "Evaluating:  92%|████████████████████████████▌  | 24/26 [00:06<00:00,  3.79it/s]logits shape: torch.Size([32, 1]), labels shape: torch.Size([32])\r\n",
      "Evaluating:  96%|█████████████████████████████▊ | 25/26 [00:06<00:00,  3.79it/s]logits shape: torch.Size([1, 1]), labels shape: torch.Size([1])\r\n",
      "Train Loss: 0.0028 | Val Loss: 0.0164 | Val Accuracy: 0.9950\r\n",
      "No improvement in val loss. Patience: 1/3\r\n",
      "\r\n",
      "Epoch 3/10\r\n",
      "Training Epoch 3/10: 100%|█████| 226/226 [06:12<00:00,  1.65s/it, loss=0.000159]\r\n",
      "Evaluating:   0%|                                        | 0/26 [00:00<?, ?it/s]logits shape: torch.Size([32, 1]), labels shape: torch.Size([32])\r\n",
      "Evaluating:   4%|█▏                              | 1/26 [00:00<00:16,  1.49it/s]logits shape: torch.Size([32, 1]), labels shape: torch.Size([32])\r\n",
      "Evaluating:   8%|██▍                             | 2/26 [00:00<00:10,  2.30it/s]logits shape: torch.Size([32, 1]), labels shape: torch.Size([32])\r\n",
      "Evaluating:  12%|███▋                            | 3/26 [00:01<00:08,  2.79it/s]logits shape: torch.Size([32, 1]), labels shape: torch.Size([32])\r\n",
      "Evaluating:  15%|████▉                           | 4/26 [00:01<00:07,  3.11it/s]logits shape: torch.Size([32, 1]), labels shape: torch.Size([32])\r\n",
      "Evaluating:  19%|██████▏                         | 5/26 [00:01<00:06,  3.32it/s]logits shape: torch.Size([32, 1]), labels shape: torch.Size([32])\r\n",
      "Evaluating:  23%|███████▍                        | 6/26 [00:02<00:05,  3.47it/s]logits shape: torch.Size([32, 1]), labels shape: torch.Size([32])\r\n",
      "Evaluating:  27%|████████▌                       | 7/26 [00:02<00:05,  3.57it/s]logits shape: torch.Size([32, 1]), labels shape: torch.Size([32])\r\n",
      "Evaluating:  31%|█████████▊                      | 8/26 [00:02<00:04,  3.63it/s]logits shape: torch.Size([32, 1]), labels shape: torch.Size([32])\r\n",
      "Evaluating:  35%|███████████                     | 9/26 [00:02<00:04,  3.67it/s]logits shape: torch.Size([32, 1]), labels shape: torch.Size([32])\r\n",
      "Evaluating:  38%|███████████▉                   | 10/26 [00:03<00:04,  3.71it/s]logits shape: torch.Size([32, 1]), labels shape: torch.Size([32])\r\n",
      "Evaluating:  42%|█████████████                  | 11/26 [00:03<00:04,  3.73it/s]logits shape: torch.Size([32, 1]), labels shape: torch.Size([32])\r\n",
      "Evaluating:  46%|██████████████▎                | 12/26 [00:03<00:03,  3.74it/s]logits shape: torch.Size([32, 1]), labels shape: torch.Size([32])\r\n",
      "Evaluating:  50%|███████████████▌               | 13/26 [00:03<00:03,  3.76it/s]logits shape: torch.Size([32, 1]), labels shape: torch.Size([32])\r\n",
      "Evaluating:  54%|████████████████▋              | 14/26 [00:04<00:03,  3.77it/s]logits shape: torch.Size([32, 1]), labels shape: torch.Size([32])\r\n",
      "Evaluating:  58%|█████████████████▉             | 15/26 [00:04<00:02,  3.77it/s]logits shape: torch.Size([32, 1]), labels shape: torch.Size([32])\r\n",
      "Evaluating:  62%|███████████████████            | 16/26 [00:04<00:02,  3.78it/s]logits shape: torch.Size([32, 1]), labels shape: torch.Size([32])\r\n",
      "Evaluating:  65%|████████████████████▎          | 17/26 [00:04<00:02,  3.77it/s]logits shape: torch.Size([32, 1]), labels shape: torch.Size([32])\r\n",
      "Evaluating:  69%|█████████████████████▍         | 18/26 [00:05<00:02,  3.78it/s]logits shape: torch.Size([32, 1]), labels shape: torch.Size([32])\r\n",
      "Evaluating:  73%|██████████████████████▋        | 19/26 [00:05<00:01,  3.79it/s]logits shape: torch.Size([32, 1]), labels shape: torch.Size([32])\r\n",
      "Evaluating:  77%|███████████████████████▊       | 20/26 [00:05<00:01,  3.79it/s]logits shape: torch.Size([32, 1]), labels shape: torch.Size([32])\r\n",
      "Evaluating:  81%|█████████████████████████      | 21/26 [00:05<00:01,  3.79it/s]logits shape: torch.Size([32, 1]), labels shape: torch.Size([32])\r\n",
      "Evaluating:  85%|██████████████████████████▏    | 22/26 [00:06<00:01,  3.79it/s]logits shape: torch.Size([32, 1]), labels shape: torch.Size([32])\r\n",
      "Evaluating:  88%|███████████████████████████▍   | 23/26 [00:06<00:00,  3.80it/s]logits shape: torch.Size([32, 1]), labels shape: torch.Size([32])\r\n",
      "Evaluating:  92%|████████████████████████████▌  | 24/26 [00:06<00:00,  3.80it/s]logits shape: torch.Size([32, 1]), labels shape: torch.Size([32])\r\n",
      "Evaluating:  96%|█████████████████████████████▊ | 25/26 [00:07<00:00,  3.79it/s]logits shape: torch.Size([1, 1]), labels shape: torch.Size([1])\r\n",
      "Train Loss: 0.0007 | Val Loss: 0.0163 | Val Accuracy: 0.9950\r\n",
      "No improvement in val loss. Patience: 2/3\r\n",
      "\r\n",
      "Epoch 4/10\r\n",
      "Training Epoch 4/10: 100%|█████| 226/226 [06:12<00:00,  1.65s/it, loss=0.000189]\r\n",
      "Evaluating:   0%|                                        | 0/26 [00:00<?, ?it/s]logits shape: torch.Size([32, 1]), labels shape: torch.Size([32])\r\n",
      "Evaluating:   4%|█▏                              | 1/26 [00:00<00:14,  1.68it/s]logits shape: torch.Size([32, 1]), labels shape: torch.Size([32])\r\n",
      "Evaluating:   8%|██▍                             | 2/26 [00:00<00:09,  2.50it/s]logits shape: torch.Size([32, 1]), labels shape: torch.Size([32])\r\n",
      "Evaluating:  12%|███▋                            | 3/26 [00:01<00:07,  2.96it/s]logits shape: torch.Size([32, 1]), labels shape: torch.Size([32])\r\n",
      "Evaluating:  15%|████▉                           | 4/26 [00:01<00:06,  3.23it/s]logits shape: torch.Size([32, 1]), labels shape: torch.Size([32])\r\n",
      "Evaluating:  19%|██████▏                         | 5/26 [00:01<00:06,  3.41it/s]logits shape: torch.Size([32, 1]), labels shape: torch.Size([32])\r\n",
      "Evaluating:  23%|███████▍                        | 6/26 [00:01<00:05,  3.52it/s]logits shape: torch.Size([32, 1]), labels shape: torch.Size([32])\r\n",
      "Evaluating:  27%|████████▌                       | 7/26 [00:02<00:05,  3.61it/s]logits shape: torch.Size([32, 1]), labels shape: torch.Size([32])\r\n",
      "Evaluating:  31%|█████████▊                      | 8/26 [00:02<00:04,  3.67it/s]logits shape: torch.Size([32, 1]), labels shape: torch.Size([32])\r\n",
      "Evaluating:  35%|███████████                     | 9/26 [00:02<00:04,  3.71it/s]logits shape: torch.Size([32, 1]), labels shape: torch.Size([32])\r\n",
      "Evaluating:  38%|███████████▉                   | 10/26 [00:02<00:04,  3.73it/s]logits shape: torch.Size([32, 1]), labels shape: torch.Size([32])\r\n",
      "Evaluating:  42%|█████████████                  | 11/26 [00:03<00:04,  3.74it/s]logits shape: torch.Size([32, 1]), labels shape: torch.Size([32])\r\n",
      "Evaluating:  46%|██████████████▎                | 12/26 [00:03<00:03,  3.75it/s]logits shape: torch.Size([32, 1]), labels shape: torch.Size([32])\r\n",
      "Evaluating:  50%|███████████████▌               | 13/26 [00:03<00:03,  3.76it/s]logits shape: torch.Size([32, 1]), labels shape: torch.Size([32])\r\n",
      "Evaluating:  54%|████████████████▋              | 14/26 [00:04<00:03,  3.77it/s]logits shape: torch.Size([32, 1]), labels shape: torch.Size([32])\r\n",
      "Evaluating:  58%|█████████████████▉             | 15/26 [00:04<00:02,  3.78it/s]logits shape: torch.Size([32, 1]), labels shape: torch.Size([32])\r\n",
      "Evaluating:  62%|███████████████████            | 16/26 [00:04<00:02,  3.79it/s]logits shape: torch.Size([32, 1]), labels shape: torch.Size([32])\r\n",
      "Evaluating:  65%|████████████████████▎          | 17/26 [00:04<00:02,  3.78it/s]logits shape: torch.Size([32, 1]), labels shape: torch.Size([32])\r\n",
      "Evaluating:  69%|█████████████████████▍         | 18/26 [00:05<00:02,  3.79it/s]logits shape: torch.Size([32, 1]), labels shape: torch.Size([32])\r\n",
      "Evaluating:  73%|██████████████████████▋        | 19/26 [00:05<00:01,  3.79it/s]logits shape: torch.Size([32, 1]), labels shape: torch.Size([32])\r\n",
      "Evaluating:  77%|███████████████████████▊       | 20/26 [00:05<00:01,  3.79it/s]logits shape: torch.Size([32, 1]), labels shape: torch.Size([32])\r\n",
      "Evaluating:  81%|█████████████████████████      | 21/26 [00:05<00:01,  3.79it/s]logits shape: torch.Size([32, 1]), labels shape: torch.Size([32])\r\n",
      "Evaluating:  85%|██████████████████████████▏    | 22/26 [00:06<00:01,  3.79it/s]logits shape: torch.Size([32, 1]), labels shape: torch.Size([32])\r\n",
      "Evaluating:  88%|███████████████████████████▍   | 23/26 [00:06<00:00,  3.79it/s]logits shape: torch.Size([32, 1]), labels shape: torch.Size([32])\r\n",
      "Evaluating:  92%|████████████████████████████▌  | 24/26 [00:06<00:00,  3.79it/s]logits shape: torch.Size([32, 1]), labels shape: torch.Size([32])\r\n",
      "Evaluating:  96%|█████████████████████████████▊ | 25/26 [00:06<00:00,  3.79it/s]logits shape: torch.Size([1, 1]), labels shape: torch.Size([1])\r\n",
      "Train Loss: 0.0003 | Val Loss: 0.0179 | Val Accuracy: 0.9950\r\n",
      "No improvement in val loss. Patience: 3/3\r\n",
      "Early stopping triggered.\r\n",
      "\r\n",
      "Training complete. Model saved to checkpoints/catdog_final.pth\r\n"
     ]
    }
   ],
   "source": [
    "!python train.py"
   ]
  },
  {
   "cell_type": "code",
   "execution_count": 4,
   "id": "2e0eb4f2",
   "metadata": {
    "execution": {
     "iopub.execute_input": "2025-04-27T06:45:25.651591Z",
     "iopub.status.busy": "2025-04-27T06:45:25.650995Z",
     "iopub.status.idle": "2025-04-27T06:45:59.954273Z",
     "shell.execute_reply": "2025-04-27T06:45:59.953638Z"
    },
    "papermill": {
     "duration": 34.391532,
     "end_time": "2025-04-27T06:45:59.998672",
     "exception": false,
     "start_time": "2025-04-27T06:45:25.607140",
     "status": "completed"
    },
    "tags": []
   },
   "outputs": [
    {
     "data": {
      "text/plain": [
       "'/kaggle/working/dog-cat/checkpoints.zip'"
      ]
     },
     "execution_count": 4,
     "metadata": {},
     "output_type": "execute_result"
    }
   ],
   "source": [
    "import shutil\n",
    "from IPython.display import FileLink\n",
    "\n",
    "# Nén thư mục 'checkpoint' thành file 'checkpoint.zip'\n",
    "shutil.make_archive('checkpoints', 'zip', 'checkpoints')"
   ]
  }
 ],
 "metadata": {
  "kaggle": {
   "accelerator": "gpu",
   "dataSources": [
    {
     "datasetId": 23777,
     "sourceId": 30378,
     "sourceType": "datasetVersion"
    }
   ],
   "dockerImageVersionId": 31011,
   "isGpuEnabled": true,
   "isInternetEnabled": true,
   "language": "python",
   "sourceType": "notebook"
  },
  "kernelspec": {
   "display_name": "Python 3",
   "language": "python",
   "name": "python3"
  },
  "language_info": {
   "codemirror_mode": {
    "name": "ipython",
    "version": 3
   },
   "file_extension": ".py",
   "mimetype": "text/x-python",
   "name": "python",
   "nbconvert_exporter": "python",
   "pygments_lexer": "ipython3",
   "version": "3.11.11"
  },
  "papermill": {
   "default_parameters": {},
   "duration": 1583.840305,
   "end_time": "2025-04-27T06:46:00.360480",
   "environment_variables": {},
   "exception": null,
   "input_path": "__notebook__.ipynb",
   "output_path": "__notebook__.ipynb",
   "parameters": {},
   "start_time": "2025-04-27T06:19:36.520175",
   "version": "2.6.0"
  }
 },
 "nbformat": 4,
 "nbformat_minor": 5
}
